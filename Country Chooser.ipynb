{
 "cells": [
  {
   "cell_type": "markdown",
   "metadata": {},
   "source": [
    "# Settings"
   ]
  },
  {
   "cell_type": "code",
   "execution_count": 1,
   "metadata": {},
   "outputs": [
    {
     "name": "stderr",
     "output_type": "stream",
     "text": [
      "Loading required package: bitops\n"
     ]
    }
   ],
   "source": [
    "options(repr.plot.width = 5, repr.plot.height = 3, scipen = 999, warn = -1)\n",
    "\n",
    "suppressMessages(library(dplyr))\n",
    "suppressMessages(library(lubridate))\n",
    "library(xml2)\n",
    "library(rvest)\n",
    "library(curl)\n",
    "library(stringr)\n",
    "library(RCurl)\n",
    "suppressMessages(library(httr))\n",
    "library(rjson)\n",
    "\n",
    "user_agents <- read.csv('user_agents.txt', stringsAsFactors = F, row.names = NULL, sep = '*') %>% pull(user_agents)"
   ]
  },
  {
   "cell_type": "markdown",
   "metadata": {},
   "source": [
    "# Visa free countries (egov)"
   ]
  },
  {
   "cell_type": "code",
   "execution_count": 2,
   "metadata": {},
   "outputs": [
    {
     "data": {
      "text/html": [
       "<table>\n",
       "<caption>A data.frame: 6 × 2</caption>\n",
       "<thead>\n",
       "\t<tr><th scope=col>country</th><th scope=col>duration</th></tr>\n",
       "\t<tr><th scope=col>&lt;chr&gt;</th><th scope=col>&lt;dbl&gt;</th></tr>\n",
       "</thead>\n",
       "<tbody>\n",
       "\t<tr><td>Georgia   </td><td>365</td></tr>\n",
       "\t<tr><td>Armenia   </td><td>180</td></tr>\n",
       "\t<tr><td>Azerbaijan</td><td> 90</td></tr>\n",
       "\t<tr><td>Albania   </td><td> 90</td></tr>\n",
       "\t<tr><td>Belarus   </td><td> 90</td></tr>\n",
       "\t<tr><td>Colombia  </td><td> 90</td></tr>\n",
       "</tbody>\n",
       "</table>\n"
      ],
      "text/latex": [
       "A data.frame: 6 × 2\n",
       "\\begin{tabular}{r|ll}\n",
       " country & duration\\\\\n",
       " <chr> & <dbl>\\\\\n",
       "\\hline\n",
       "\t Georgia    & 365\\\\\n",
       "\t Armenia    & 180\\\\\n",
       "\t Azerbaijan &  90\\\\\n",
       "\t Albania    &  90\\\\\n",
       "\t Belarus    &  90\\\\\n",
       "\t Colombia   &  90\\\\\n",
       "\\end{tabular}\n"
      ],
      "text/markdown": [
       "\n",
       "A data.frame: 6 × 2\n",
       "\n",
       "| country &lt;chr&gt; | duration &lt;dbl&gt; |\n",
       "|---|---|\n",
       "| Georgia    | 365 |\n",
       "| Armenia    | 180 |\n",
       "| Azerbaijan |  90 |\n",
       "| Albania    |  90 |\n",
       "| Belarus    |  90 |\n",
       "| Colombia   |  90 |\n",
       "\n"
      ],
      "text/plain": [
       "  country    duration\n",
       "1 Georgia    365     \n",
       "2 Armenia    180     \n",
       "3 Azerbaijan  90     \n",
       "4 Albania     90     \n",
       "5 Belarus     90     \n",
       "6 Colombia    90     "
      ]
     },
     "metadata": {},
     "output_type": "display_data"
    }
   ],
   "source": [
    "# countries w/o visas for KZ\n",
    "visa_free <- 'https://egov.kz/cms/en/articles/move_abroad/visa_free_regime'\n",
    "\n",
    "visa_free_df <- \n",
    "    html(visa_free) %>% \n",
    "    html_nodes('table') %>% \n",
    "    html_table(fill = T, header = T) %>% \n",
    "    as.data.frame\n",
    "\n",
    "colnames(visa_free_df) <- visa_free_df[1, ]\n",
    "\n",
    "visa_free_df <- \n",
    "    visa_free_df[-1, ] %>% \n",
    "    select(Country, N) %>% \n",
    "    mutate(N = str_trim(N),\n",
    "          Country = str_trim(Country)) %>% \n",
    "    filter(N != 'visa') %>% \n",
    "    mutate(N = str_remove(N, 'during.*'),\n",
    "           duration = str_extract(N, '(?<=until)(.*)(?=days)'),\n",
    "           duration = as.numeric(duration)) %>% \n",
    "    filter(!is.na(duration)) %>% \n",
    "    select(-N) %>%\n",
    "    select_all(tolower) %>% \n",
    "    mutate(country = recode(country, Korea = 'South Korea', Argentine = 'Argentina', UAE = 'United Arab Emirates')) %>% \n",
    "    arrange(-duration)\n",
    "\n",
    "visa_free_df %>% head"
   ]
  },
  {
   "cell_type": "markdown",
   "metadata": {},
   "source": [
    "# Capitals (wiki)\n",
    "## Making major dataframe countries_df"
   ]
  },
  {
   "cell_type": "code",
   "execution_count": 3,
   "metadata": {},
   "outputs": [
    {
     "name": "stderr",
     "output_type": "stream",
     "text": [
      "Joining, by = \"country\"\n"
     ]
    },
    {
     "data": {
      "text/html": [
       "<table>\n",
       "<caption>A data.frame: 6 × 5</caption>\n",
       "<thead>\n",
       "\t<tr><th></th><th scope=col>country</th><th scope=col>duration</th><th scope=col>capital</th><th scope=col>country_html</th><th scope=col>capital_html</th></tr>\n",
       "\t<tr><th></th><th scope=col>&lt;chr&gt;</th><th scope=col>&lt;dbl&gt;</th><th scope=col>&lt;chr&gt;</th><th scope=col>&lt;chr&gt;</th><th scope=col>&lt;chr&gt;</th></tr>\n",
       "</thead>\n",
       "<tbody>\n",
       "\t<tr><th scope=row>24</th><td>Philippines</td><td> 30</td><td>Manila    </td><td>Philippines</td><td>Manila     </td></tr>\n",
       "\t<tr><th scope=row>25</th><td>Montenegro </td><td> 30</td><td>Podgorica </td><td>Montenegro </td><td>Podgorica  </td></tr>\n",
       "\t<tr><th scope=row>26</th><td>Ecuador    </td><td> 30</td><td>Quito     </td><td>Ecuador    </td><td>Quito      </td></tr>\n",
       "\t<tr><th scope=row>27</th><td>Barbados   </td><td> 28</td><td>Bridgetown</td><td>Barbados   </td><td>Bridgetown </td></tr>\n",
       "\t<tr><th scope=row>28</th><td>Hong Kong  </td><td> 14</td><td>Hong Kong </td><td>Hong%20Kong</td><td>Hong%20Kong</td></tr>\n",
       "\t<tr><th scope=row>29</th><td>Kazakhstan </td><td>365</td><td>Almaty    </td><td>Kazakhstan </td><td>Almaty     </td></tr>\n",
       "</tbody>\n",
       "</table>\n"
      ],
      "text/latex": [
       "A data.frame: 6 × 5\n",
       "\\begin{tabular}{r|lllll}\n",
       "  & country & duration & capital & country\\_html & capital\\_html\\\\\n",
       "  & <chr> & <dbl> & <chr> & <chr> & <chr>\\\\\n",
       "\\hline\n",
       "\t24 & Philippines &  30 & Manila     & Philippines & Manila     \\\\\n",
       "\t25 & Montenegro  &  30 & Podgorica  & Montenegro  & Podgorica  \\\\\n",
       "\t26 & Ecuador     &  30 & Quito      & Ecuador     & Quito      \\\\\n",
       "\t27 & Barbados    &  28 & Bridgetown & Barbados    & Bridgetown \\\\\n",
       "\t28 & Hong Kong   &  14 & Hong Kong  & Hong\\%20Kong & Hong\\%20Kong\\\\\n",
       "\t29 & Kazakhstan  & 365 & Almaty     & Kazakhstan  & Almaty     \\\\\n",
       "\\end{tabular}\n"
      ],
      "text/markdown": [
       "\n",
       "A data.frame: 6 × 5\n",
       "\n",
       "| <!--/--> | country &lt;chr&gt; | duration &lt;dbl&gt; | capital &lt;chr&gt; | country_html &lt;chr&gt; | capital_html &lt;chr&gt; |\n",
       "|---|---|---|---|---|---|\n",
       "| 24 | Philippines |  30 | Manila     | Philippines | Manila      |\n",
       "| 25 | Montenegro  |  30 | Podgorica  | Montenegro  | Podgorica   |\n",
       "| 26 | Ecuador     |  30 | Quito      | Ecuador     | Quito       |\n",
       "| 27 | Barbados    |  28 | Bridgetown | Barbados    | Bridgetown  |\n",
       "| 28 | Hong Kong   |  14 | Hong Kong  | Hong%20Kong | Hong%20Kong |\n",
       "| 29 | Kazakhstan  | 365 | Almaty     | Kazakhstan  | Almaty      |\n",
       "\n"
      ],
      "text/plain": [
       "   country     duration capital    country_html capital_html\n",
       "24 Philippines  30      Manila     Philippines  Manila      \n",
       "25 Montenegro   30      Podgorica  Montenegro   Podgorica   \n",
       "26 Ecuador      30      Quito      Ecuador      Quito       \n",
       "27 Barbados     28      Bridgetown Barbados     Bridgetown  \n",
       "28 Hong Kong    14      Hong Kong  Hong%20Kong  Hong%20Kong \n",
       "29 Kazakhstan  365      Almaty     Kazakhstan   Almaty      "
      ]
     },
     "metadata": {},
     "output_type": "display_data"
    }
   ],
   "source": [
    "# capitals\n",
    "wiki_capitals <- 'https://en.wikipedia.org/wiki/List_of_national_capitals'\n",
    "\n",
    "wiki_capitals_df <- \n",
    "    html(wiki_capitals) %>% \n",
    "    html_nodes('.wikitable') %>% \n",
    "    html_table() %>% \n",
    "    as.data.frame %>% \n",
    "    select_all(tolower) %>% \n",
    "    select(country, capital = city) %>% \n",
    "    mutate(capital = str_remove(capital, '\\\\(.*'),\n",
    "           capital = str_trim(capital),\n",
    "           country = str_trim(country))\n",
    "\n",
    "kz_data <- data.frame(country = 'Kazakhstan', duration = 365, capital = 'Almaty')\n",
    "\n",
    "countries_df <- \n",
    "visa_free_df %>%\n",
    "left_join(wiki_capitals_df) %>% \n",
    "rbind(kz_data) %>% \n",
    "mutate(capital = case_when(country == 'Colombia' ~ 'Bogota',\n",
    "                           country == 'Moldova' ~ 'Chisinau',\n",
    "                           country == 'Hong Kong' ~ 'Hong Kong',\n",
    "                           country == 'Costa Rica' ~ 'San Jose',\n",
    "                           country == 'Brazil' ~ 'Brasilia',\n",
    "                           TRUE ~ capital),\n",
    "       country_html = str_replace_all(country, ' ', '%20'),\n",
    "       capital_html = str_replace_all(capital, ' ', '%20'))\n",
    "\n",
    "countries_df %>% tail"
   ]
  },
  {
   "cell_type": "markdown",
   "metadata": {},
   "source": [
    "# Prices comparison (Numbeo)"
   ]
  },
  {
   "cell_type": "code",
   "execution_count": 4,
   "metadata": {},
   "outputs": [],
   "source": [
    "# prices\n",
    "Amount = '250000'\n",
    "\n",
    "numbeoUrl <- function(country, city, amount = Amount){\n",
    "    paste0('https://www.numbeo.com/cost-of-living/compare_cities.jsp?country1=Kazakhstan&city1=Almaty&country2=',\n",
    "           country,\n",
    "           '&city2=',\n",
    "           city,\n",
    "           '&amount=',\n",
    "           amount,\n",
    "           '&displayCurrency=KZT')\n",
    "}\n",
    "\n",
    "getPrices <- function(country, city, amount) {\n",
    "    \n",
    "    #Sys.sleep(15)\n",
    "    \n",
    "    tryCatch(\n",
    "        numbeoUrl(country, city, amount = Amount) %>% \n",
    "        curl(., handle = curl::new_handle('useragent' = sample(user_agents, 1))) %>% \n",
    "        html %>% \n",
    "        html_nodes('.light_box') %>% \n",
    "        html_text %>% \n",
    "        str_extract('You would need around [0-9]+,[0-9]+') %>% \n",
    "        str_remove_all('[^[:digit:]]') %>% \n",
    "        as.numeric(),\n",
    "        \n",
    "        error = function(err){NA}\n",
    "    )\n",
    "}\n",
    "\n",
    "#numbeoUrl('Georgia', 'Tbilisi')\n",
    "#getPrices('Georgia', 'Tbilisi')"
   ]
  },
  {
   "cell_type": "code",
   "execution_count": 5,
   "metadata": {},
   "outputs": [
    {
     "data": {
      "text/html": [
       "<table>\n",
       "<caption>A data.frame: 6 × 7</caption>\n",
       "<thead>\n",
       "\t<tr><th scope=col>country</th><th scope=col>duration</th><th scope=col>capital</th><th scope=col>country_html</th><th scope=col>capital_html</th><th scope=col>prices</th><th scope=col>prices_difference</th></tr>\n",
       "\t<tr><th scope=col>&lt;chr&gt;</th><th scope=col>&lt;dbl&gt;</th><th scope=col>&lt;chr&gt;</th><th scope=col>&lt;chr&gt;</th><th scope=col>&lt;chr&gt;</th><th scope=col>&lt;dbl&gt;</th><th scope=col>&lt;dbl&gt;</th></tr>\n",
       "</thead>\n",
       "<tbody>\n",
       "\t<tr><td>Georgia   </td><td>365</td><td>Tbilisi</td><td>Georgia   </td><td>Tbilisi</td><td>235296</td><td>-0.058816</td></tr>\n",
       "\t<tr><td>Kazakhstan</td><td>365</td><td>Almaty </td><td>Kazakhstan</td><td>Almaty </td><td>250000</td><td> 0.000000</td></tr>\n",
       "\t<tr><td>Armenia   </td><td>180</td><td>Yerevan</td><td>Armenia   </td><td>Yerevan</td><td>271971</td><td> 0.087884</td></tr>\n",
       "\t<tr><td>Azerbaijan</td><td> 90</td><td>Baku   </td><td>Azerbaijan</td><td>Baku   </td><td>253643</td><td> 0.014572</td></tr>\n",
       "\t<tr><td>Albania   </td><td> 90</td><td>Tirana </td><td>Albania   </td><td>Tirana </td><td>301698</td><td> 0.206792</td></tr>\n",
       "\t<tr><td>Belarus   </td><td> 90</td><td>Minsk  </td><td>Belarus   </td><td>Minsk  </td><td>297496</td><td> 0.189984</td></tr>\n",
       "</tbody>\n",
       "</table>\n"
      ],
      "text/latex": [
       "A data.frame: 6 × 7\n",
       "\\begin{tabular}{r|lllllll}\n",
       " country & duration & capital & country\\_html & capital\\_html & prices & prices\\_difference\\\\\n",
       " <chr> & <dbl> & <chr> & <chr> & <chr> & <dbl> & <dbl>\\\\\n",
       "\\hline\n",
       "\t Georgia    & 365 & Tbilisi & Georgia    & Tbilisi & 235296 & -0.058816\\\\\n",
       "\t Kazakhstan & 365 & Almaty  & Kazakhstan & Almaty  & 250000 &  0.000000\\\\\n",
       "\t Armenia    & 180 & Yerevan & Armenia    & Yerevan & 271971 &  0.087884\\\\\n",
       "\t Azerbaijan &  90 & Baku    & Azerbaijan & Baku    & 253643 &  0.014572\\\\\n",
       "\t Albania    &  90 & Tirana  & Albania    & Tirana  & 301698 &  0.206792\\\\\n",
       "\t Belarus    &  90 & Minsk   & Belarus    & Minsk   & 297496 &  0.189984\\\\\n",
       "\\end{tabular}\n"
      ],
      "text/markdown": [
       "\n",
       "A data.frame: 6 × 7\n",
       "\n",
       "| country &lt;chr&gt; | duration &lt;dbl&gt; | capital &lt;chr&gt; | country_html &lt;chr&gt; | capital_html &lt;chr&gt; | prices &lt;dbl&gt; | prices_difference &lt;dbl&gt; |\n",
       "|---|---|---|---|---|---|---|\n",
       "| Georgia    | 365 | Tbilisi | Georgia    | Tbilisi | 235296 | -0.058816 |\n",
       "| Kazakhstan | 365 | Almaty  | Kazakhstan | Almaty  | 250000 |  0.000000 |\n",
       "| Armenia    | 180 | Yerevan | Armenia    | Yerevan | 271971 |  0.087884 |\n",
       "| Azerbaijan |  90 | Baku    | Azerbaijan | Baku    | 253643 |  0.014572 |\n",
       "| Albania    |  90 | Tirana  | Albania    | Tirana  | 301698 |  0.206792 |\n",
       "| Belarus    |  90 | Minsk   | Belarus    | Minsk   | 297496 |  0.189984 |\n",
       "\n"
      ],
      "text/plain": [
       "  country    duration capital country_html capital_html prices\n",
       "1 Georgia    365      Tbilisi Georgia      Tbilisi      235296\n",
       "2 Kazakhstan 365      Almaty  Kazakhstan   Almaty       250000\n",
       "3 Armenia    180      Yerevan Armenia      Yerevan      271971\n",
       "4 Azerbaijan  90      Baku    Azerbaijan   Baku         253643\n",
       "5 Albania     90      Tirana  Albania      Tirana       301698\n",
       "6 Belarus     90      Minsk   Belarus      Minsk        297496\n",
       "  prices_difference\n",
       "1 -0.058816        \n",
       "2  0.000000        \n",
       "3  0.087884        \n",
       "4  0.014572        \n",
       "5  0.206792        \n",
       "6  0.189984        "
      ]
     },
     "metadata": {},
     "output_type": "display_data"
    }
   ],
   "source": [
    "prices_df <-\n",
    "    countries_df %>% \n",
    "    arrange(-duration) %>% \n",
    "    mutate(prices = Vectorize(getPrices)(country_html, capital_html),\n",
    "          prices = as.numeric(prices),\n",
    "          prices_difference = prices / as.numeric(Amount) - 1)\n",
    "\n",
    "prices_df %>% head"
   ]
  },
  {
   "cell_type": "markdown",
   "metadata": {},
   "source": [
    "# Internet Speed (speedtest.net)"
   ]
  },
  {
   "cell_type": "code",
   "execution_count": 6,
   "metadata": {},
   "outputs": [
    {
     "name": "stderr",
     "output_type": "stream",
     "text": [
      "Joining, by = \"country\"\n",
      "Joining, by = \"country\"\n"
     ]
    },
    {
     "data": {
      "text/html": [
       "<table>\n",
       "<caption>A data.frame: 6 × 7</caption>\n",
       "<thead>\n",
       "\t<tr><th scope=col>country</th><th scope=col>duration</th><th scope=col>capital</th><th scope=col>country_html</th><th scope=col>capital_html</th><th scope=col>mobileSpeed</th><th scope=col>fixedSpeed</th></tr>\n",
       "\t<tr><th scope=col>&lt;chr&gt;</th><th scope=col>&lt;dbl&gt;</th><th scope=col>&lt;chr&gt;</th><th scope=col>&lt;chr&gt;</th><th scope=col>&lt;chr&gt;</th><th scope=col>&lt;dbl&gt;</th><th scope=col>&lt;dbl&gt;</th></tr>\n",
       "</thead>\n",
       "<tbody>\n",
       "\t<tr><td>Georgia   </td><td>365</td><td>Tbilisi</td><td>Georgia   </td><td>Tbilisi</td><td>27.14</td><td>24.87</td></tr>\n",
       "\t<tr><td>Armenia   </td><td>180</td><td>Yerevan</td><td>Armenia   </td><td>Yerevan</td><td>31.01</td><td>25.61</td></tr>\n",
       "\t<tr><td>Azerbaijan</td><td> 90</td><td>Baku   </td><td>Azerbaijan</td><td>Baku   </td><td>31.84</td><td>18.54</td></tr>\n",
       "\t<tr><td>Albania   </td><td> 90</td><td>Tirana </td><td>Albania   </td><td>Tirana </td><td>49.21</td><td>30.83</td></tr>\n",
       "\t<tr><td>Belarus   </td><td> 90</td><td>Minsk  </td><td>Belarus   </td><td>Minsk  </td><td>12.59</td><td>50.14</td></tr>\n",
       "\t<tr><td>Colombia  </td><td> 90</td><td>Bogota </td><td>Colombia  </td><td>Bogota </td><td>18.12</td><td>23.88</td></tr>\n",
       "</tbody>\n",
       "</table>\n"
      ],
      "text/latex": [
       "A data.frame: 6 × 7\n",
       "\\begin{tabular}{r|lllllll}\n",
       " country & duration & capital & country\\_html & capital\\_html & mobileSpeed & fixedSpeed\\\\\n",
       " <chr> & <dbl> & <chr> & <chr> & <chr> & <dbl> & <dbl>\\\\\n",
       "\\hline\n",
       "\t Georgia    & 365 & Tbilisi & Georgia    & Tbilisi & 27.14 & 24.87\\\\\n",
       "\t Armenia    & 180 & Yerevan & Armenia    & Yerevan & 31.01 & 25.61\\\\\n",
       "\t Azerbaijan &  90 & Baku    & Azerbaijan & Baku    & 31.84 & 18.54\\\\\n",
       "\t Albania    &  90 & Tirana  & Albania    & Tirana  & 49.21 & 30.83\\\\\n",
       "\t Belarus    &  90 & Minsk   & Belarus    & Minsk   & 12.59 & 50.14\\\\\n",
       "\t Colombia   &  90 & Bogota  & Colombia   & Bogota  & 18.12 & 23.88\\\\\n",
       "\\end{tabular}\n"
      ],
      "text/markdown": [
       "\n",
       "A data.frame: 6 × 7\n",
       "\n",
       "| country &lt;chr&gt; | duration &lt;dbl&gt; | capital &lt;chr&gt; | country_html &lt;chr&gt; | capital_html &lt;chr&gt; | mobileSpeed &lt;dbl&gt; | fixedSpeed &lt;dbl&gt; |\n",
       "|---|---|---|---|---|---|---|\n",
       "| Georgia    | 365 | Tbilisi | Georgia    | Tbilisi | 27.14 | 24.87 |\n",
       "| Armenia    | 180 | Yerevan | Armenia    | Yerevan | 31.01 | 25.61 |\n",
       "| Azerbaijan |  90 | Baku    | Azerbaijan | Baku    | 31.84 | 18.54 |\n",
       "| Albania    |  90 | Tirana  | Albania    | Tirana  | 49.21 | 30.83 |\n",
       "| Belarus    |  90 | Minsk   | Belarus    | Minsk   | 12.59 | 50.14 |\n",
       "| Colombia   |  90 | Bogota  | Colombia   | Bogota  | 18.12 | 23.88 |\n",
       "\n"
      ],
      "text/plain": [
       "  country    duration capital country_html capital_html mobileSpeed fixedSpeed\n",
       "1 Georgia    365      Tbilisi Georgia      Tbilisi      27.14       24.87     \n",
       "2 Armenia    180      Yerevan Armenia      Yerevan      31.01       25.61     \n",
       "3 Azerbaijan  90      Baku    Azerbaijan   Baku         31.84       18.54     \n",
       "4 Albania     90      Tirana  Albania      Tirana       49.21       30.83     \n",
       "5 Belarus     90      Minsk   Belarus      Minsk        12.59       50.14     \n",
       "6 Colombia    90      Bogota  Colombia     Bogota       18.12       23.88     "
      ]
     },
     "metadata": {},
     "output_type": "display_data"
    }
   ],
   "source": [
    "# Internet\n",
    "\n",
    "speedtest <- 'https://www.speedtest.net/global-index'\n",
    "\n",
    "getSpeed <- function(divType = '#column-mobile', NAME = 'mobileSpeed') {\n",
    "    html(speedtest) %>% \n",
    "    html_nodes(divType) %>% \n",
    "    html_nodes('table') %>% \n",
    "    html_table(fill = T, header = T) %>% \n",
    "    as.data.frame %>% \n",
    "    filter(!is.na(Mbps)) %>% \n",
    "    select(3, 4) %>% \n",
    "    select_all(tolower) %>% \n",
    "    mutate(country = str_trim(str_remove(country, '\\\\(.*'))) %>% \n",
    "    setNames(c('country', NAME))\n",
    "}\n",
    "\n",
    "speed_df <- \n",
    "    countries_df %>% \n",
    "    left_join(getSpeed()) %>% \n",
    "    left_join(getSpeed('#column-fixed', 'fixedSpeed'))\n",
    "\n",
    "speed_df %>% head"
   ]
  },
  {
   "cell_type": "markdown",
   "metadata": {},
   "source": [
    "# Time difference with Kiyv and Almaty (worldtimeapi)"
   ]
  },
  {
   "cell_type": "code",
   "execution_count": 7,
   "metadata": {},
   "outputs": [],
   "source": [
    "# timezone\n",
    "timezones <- \n",
    "    read.csv('http://worldtimeapi.org/api/timezone.txt', header = F, stringsAsFactors = F) %>%\n",
    "    setNames('tzName') %>% \n",
    "    mutate(city = str_extract(tzName, '\\\\/.*'),\n",
    "           city = str_remove(city, '\\\\/'),\n",
    "           city = ifelse(str_detect(city, '\\\\/'), str_extract(city, '\\\\/.*'), city),\n",
    "           city = str_remove(city, '\\\\/'),\n",
    "           city = str_trim(city))\n",
    "\n",
    "worldtime <- 'http://worldtimeapi.org/api/timezone/'\n",
    "\n",
    "timezones_df <- \n",
    "    countries_df %>% \n",
    "    select(capital) %>% \n",
    "    mutate(capital_corr = str_replace_all(capital, ' ', '_')) %>% \n",
    "    left_join(timezones, by = c('capital_corr' = 'city')) %>% \n",
    "    select(-capital_corr) %>% \n",
    "    mutate(tzName = case_when(capital %in% c('Tirana', 'Podgorica') ~ 'Europe/Belgrade',\n",
    "                              capital == 'San Jose' ~ 'America/Mexico_City',\n",
    "                              capital == 'Brasilia' ~ 'America/Argentina/Buenos_Aires',\n",
    "                              capital == 'Ankara' ~ 'Europe/Moscow',\n",
    "                              capital == 'Abu Dhabi' ~ 'Asia/Dubai',\n",
    "                              capital == 'Quito' ~ 'America/Bogota',\n",
    "                              capital == 'Bridgetown' ~ 'America/Puerto_Rico',\n",
    "                              TRUE ~ tzName),\n",
    "           tzUrl = paste0(worldtime, tzName, '.json')) \n",
    "\n",
    "tzUnique <- timezones_df$tzUrl %>% unique"
   ]
  },
  {
   "cell_type": "code",
   "execution_count": 8,
   "metadata": {},
   "outputs": [],
   "source": [
    "# # Save WorldTime data bc it takes time to import\n",
    "\n",
    "# tzAPI <- read.csv(text = 'tzUrl, utc_datetime, utc_offset', stringsAsFactors = F)\n",
    "\n",
    "# for (i in 1:length(tzUnique)) {\n",
    "    \n",
    "#     Sys.sleep(3)\n",
    "    \n",
    "#     url <- tzUnique[i]\n",
    "    \n",
    "#     tzInfo <- url %>% fromJSON(file = .) \n",
    "    \n",
    "#     tzAPI <- rbind(tzAPI, data.frame(tzUrl = url, utc_datetime = tzInfo$datetime, utc_offset = tzInfo$utc_offset))    \n",
    "    \n",
    "# }\n",
    "\n",
    "# write.csv(tzAPI, 'tzAPI.csv', row.names = F)"
   ]
  },
  {
   "cell_type": "code",
   "execution_count": 9,
   "metadata": {},
   "outputs": [
    {
     "name": "stderr",
     "output_type": "stream",
     "text": [
      "Joining, by = \"tzUrl\"\n"
     ]
    },
    {
     "data": {
      "text/html": [
       "<table>\n",
       "<caption>A data.frame: 6 × 3</caption>\n",
       "<thead>\n",
       "\t<tr><th scope=col>capital</th><th scope=col>almaty_difference</th><th scope=col>kiyv_difference</th></tr>\n",
       "\t<tr><th scope=col>&lt;chr&gt;</th><th scope=col>&lt;dbl&gt;</th><th scope=col>&lt;dbl&gt;</th></tr>\n",
       "</thead>\n",
       "<tbody>\n",
       "\t<tr><td>Tbilisi</td><td> -2</td><td> 2</td></tr>\n",
       "\t<tr><td>Yerevan</td><td> -2</td><td> 2</td></tr>\n",
       "\t<tr><td>Baku   </td><td> -2</td><td> 2</td></tr>\n",
       "\t<tr><td>Tirana </td><td> -5</td><td>-1</td></tr>\n",
       "\t<tr><td>Minsk  </td><td> -3</td><td> 1</td></tr>\n",
       "\t<tr><td>Bogota </td><td>-11</td><td>-7</td></tr>\n",
       "</tbody>\n",
       "</table>\n"
      ],
      "text/latex": [
       "A data.frame: 6 × 3\n",
       "\\begin{tabular}{r|lll}\n",
       " capital & almaty\\_difference & kiyv\\_difference\\\\\n",
       " <chr> & <dbl> & <dbl>\\\\\n",
       "\\hline\n",
       "\t Tbilisi &  -2 &  2\\\\\n",
       "\t Yerevan &  -2 &  2\\\\\n",
       "\t Baku    &  -2 &  2\\\\\n",
       "\t Tirana  &  -5 & -1\\\\\n",
       "\t Minsk   &  -3 &  1\\\\\n",
       "\t Bogota  & -11 & -7\\\\\n",
       "\\end{tabular}\n"
      ],
      "text/markdown": [
       "\n",
       "A data.frame: 6 × 3\n",
       "\n",
       "| capital &lt;chr&gt; | almaty_difference &lt;dbl&gt; | kiyv_difference &lt;dbl&gt; |\n",
       "|---|---|---|\n",
       "| Tbilisi |  -2 |  2 |\n",
       "| Yerevan |  -2 |  2 |\n",
       "| Baku    |  -2 |  2 |\n",
       "| Tirana  |  -5 | -1 |\n",
       "| Minsk   |  -3 |  1 |\n",
       "| Bogota  | -11 | -7 |\n",
       "\n"
      ],
      "text/plain": [
       "  capital almaty_difference kiyv_difference\n",
       "1 Tbilisi  -2                2             \n",
       "2 Yerevan  -2                2             \n",
       "3 Baku     -2                2             \n",
       "4 Tirana   -5               -1             \n",
       "5 Minsk    -3                1             \n",
       "6 Bogota  -11               -7             "
      ]
     },
     "metadata": {},
     "output_type": "display_data"
    }
   ],
   "source": [
    "tzImport <- read.csv('tzAPI.csv')\n",
    "\n",
    "almaty_time <- tzImport %>% filter(str_detect(tzUrl, 'Almaty')) %>% pull(utc_datetime) %>% str_sub(1, 19) %>% ymd_hms(.)\n",
    "kiyv_time <- tzImport %>% filter(str_detect(tzUrl, 'Kiev')) %>% pull(utc_datetime) %>% str_sub(1, 19) %>% ymd_hms(.)\n",
    "\n",
    "tz_df <- \n",
    "    timezones_df %>% \n",
    "    left_join(tzImport) %>% \n",
    "    mutate(dt = ymd_hms(str_sub(utc_datetime, 1, 19)),\n",
    "          almaty_difference = round(interval(almaty_time, dt) / hours(1)),\n",
    "          kiyv_difference = round(interval(kiyv_time, dt) / hours(1))) %>% \n",
    "    select(capital, contains('diff'))\n",
    "\n",
    "tz_df %>% head"
   ]
  },
  {
   "cell_type": "markdown",
   "metadata": {},
   "source": [
    "# Air Pollution\n",
    "# Two sources: aqicn.org and air-quality.com"
   ]
  },
  {
   "cell_type": "code",
   "execution_count": 10,
   "metadata": {},
   "outputs": [],
   "source": [
    "# trying one source, cancelled because of restrictions and small cities db\n",
    "\n",
    "# airVisCountries <- \n",
    "#     fromJSON(file = 'http://api.airvisual.com/v2/countries?key=c19c5115-563a-42e3-b0e0-a6ba154e52fa')$data %>% \n",
    "#     unlist(., use.names = F) %>% \n",
    "#     data.frame(country = ., stringsAsFactors = F)\n",
    "\n",
    "# airVisCountries %>% head"
   ]
  },
  {
   "cell_type": "code",
   "execution_count": 11,
   "metadata": {},
   "outputs": [
    {
     "data": {
      "text/html": [
       "87"
      ],
      "text/latex": [
       "87"
      ],
      "text/markdown": [
       "87"
      ],
      "text/plain": [
       "[1] 87"
      ]
     },
     "metadata": {},
     "output_type": "display_data"
    }
   ],
   "source": [
    "getAQI <- function(city) {\n",
    "    \n",
    "    tryCatch(\n",
    "        \n",
    "        fromJSON(file = paste0('https://api.waqi.info/feed/', city, '/?token=4989c7b86b7d3dbd7a5966ea20610cc6e5e36cd1'))$data$aqi,\n",
    "        \n",
    "        error = function(err){NA}\n",
    "    )    \n",
    "}\n",
    "\n",
    "getAQI('odessa')\n",
    "\n",
    "AQI_df <- \n",
    "    countries_df %>% \n",
    "    mutate(AQI = Vectorize(getAQI)(capital))"
   ]
  },
  {
   "cell_type": "code",
   "execution_count": 12,
   "metadata": {},
   "outputs": [
    {
     "name": "stderr",
     "output_type": "stream",
     "text": [
      "Joining, by = \"country\"\n"
     ]
    },
    {
     "data": {
      "text/html": [
       "<table>\n",
       "<caption>A data.frame: 6 × 2</caption>\n",
       "<thead>\n",
       "\t<tr><th scope=col>capital</th><th scope=col>AQI2</th></tr>\n",
       "\t<tr><th scope=col>&lt;chr&gt;</th><th scope=col>&lt;dbl&gt;</th></tr>\n",
       "</thead>\n",
       "<tbody>\n",
       "\t<tr><td>Baku   </td><td> 53</td></tr>\n",
       "\t<tr><td>Tbilisi</td><td> NA</td></tr>\n",
       "\t<tr><td>Almaty </td><td>108</td></tr>\n",
       "\t<tr><td>Almaty </td><td> 74</td></tr>\n",
       "\t<tr><td>Beirut </td><td> 77</td></tr>\n",
       "\t<tr><td>Manila </td><td> 47</td></tr>\n",
       "</tbody>\n",
       "</table>\n"
      ],
      "text/latex": [
       "A data.frame: 6 × 2\n",
       "\\begin{tabular}{r|ll}\n",
       " capital & AQI2\\\\\n",
       " <chr> & <dbl>\\\\\n",
       "\\hline\n",
       "\t Baku    &  53\\\\\n",
       "\t Tbilisi &  NA\\\\\n",
       "\t Almaty  & 108\\\\\n",
       "\t Almaty  &  74\\\\\n",
       "\t Beirut  &  77\\\\\n",
       "\t Manila  &  47\\\\\n",
       "\\end{tabular}\n"
      ],
      "text/markdown": [
       "\n",
       "A data.frame: 6 × 2\n",
       "\n",
       "| capital &lt;chr&gt; | AQI2 &lt;dbl&gt; |\n",
       "|---|---|\n",
       "| Baku    |  53 |\n",
       "| Tbilisi |  NA |\n",
       "| Almaty  | 108 |\n",
       "| Almaty  |  74 |\n",
       "| Beirut  |  77 |\n",
       "| Manila  |  47 |\n",
       "\n"
      ],
      "text/plain": [
       "  capital AQI2\n",
       "1 Baku     53 \n",
       "2 Tbilisi  NA \n",
       "3 Almaty  108 \n",
       "4 Almaty   74 \n",
       "5 Beirut   77 \n",
       "6 Manila   47 "
      ]
     },
     "metadata": {},
     "output_type": "display_data"
    }
   ],
   "source": [
    "AQcom <- 'https://air-quality.com/places'\n",
    "\n",
    "# get country links\n",
    "AQlinks <- \n",
    "    curl(AQcom, handle = curl::new_handle('useragent' = sample(user_agents, 1))) %>% \n",
    "    html %>% \n",
    "    html_nodes('.country-item') %>% \n",
    "    html_attr('href') %>% \n",
    "    str_trim\n",
    "\n",
    "# make countries df\n",
    "AQcom_df <- \n",
    "    data.frame(url = AQlinks, stringsAsFactors = F) %>% \n",
    "    mutate(country = str_extract(url, '(?<=country/)(.*)(?=/)'),\n",
    "           country = str_to_title(country),\n",
    "           country = str_trim(country)) %>% \n",
    "    inner_join(filter(AQI_df, is.na(AQI) | AQI == '-'))\n",
    "\n",
    "# add city info \n",
    "AQ_city_df <- read.csv(text = 'city, city_url', stringsAsFactors = F)\n",
    "\n",
    "for (i in 1:nrow(AQcom_df)) {\n",
    "    \n",
    "    AQ_city <- \n",
    "        AQcom_df$url[i] %>% \n",
    "        curl(., handle = curl::new_handle('useragent' = sample(user_agents, 1))) %>% \n",
    "        html %>% \n",
    "        html_nodes('.main-block-content') %>% \n",
    "        html_nodes('.site-item')\n",
    "\n",
    "    AQ_city_df <- \n",
    "        data.frame(\n",
    "            city = str_trim(AQ_city %>% html_nodes('.title') %>% html_text),\n",
    "            city_url = str_trim(AQ_city %>% html_attr('href')),\n",
    "        stringsAsFactors = F) %>% \n",
    "        rbind(AQ_city_df, .)\n",
    "    \n",
    "}\n",
    "\n",
    "# get AQI from city link\n",
    "getAQIv2 <- function(city_url) {\n",
    "    \n",
    "    tryCatch(\n",
    "        \n",
    "         curl(city_url, handle = curl::new_handle('useragent' = sample(user_agents, 1))) %>% \n",
    "        html %>% \n",
    "        html_nodes('.indexValue') %>% \n",
    "        html_text %>% \n",
    "        as.numeric(),\n",
    "        \n",
    "        error = function(err){NA}\n",
    "    )   \n",
    "}\n",
    "\n",
    "# create df for empty cities\n",
    "AQI_df_v2 <- \n",
    "    AQ_city_df  %>% \n",
    "    mutate(city = str_replace(city, 'North Governorate', 'Beirut'),\n",
    "           city = str_remove_all(tolower(city), 'province|region|voblasc|county|metro'),\n",
    "           city = str_trim(city),\n",
    "           city = str_to_title(city)) %>% \n",
    "    right_join(AQcom_df, by = c('city' = 'capital')) %>% \n",
    "    mutate(AQI = Vectorize(getAQIv2)(city_url)) %>% \n",
    "    select(capital = city, AQI2 = AQI)\n",
    "\n",
    "head(AQI_df_v2)"
   ]
  },
  {
   "cell_type": "code",
   "execution_count": 13,
   "metadata": {},
   "outputs": [
    {
     "name": "stderr",
     "output_type": "stream",
     "text": [
      "Joining, by = \"capital\"\n"
     ]
    },
    {
     "data": {
      "text/html": [
       "<table>\n",
       "<caption>A data.frame: 6 × 2</caption>\n",
       "<thead>\n",
       "\t<tr><th scope=col>country</th><th scope=col>AQI</th></tr>\n",
       "\t<tr><th scope=col>&lt;chr&gt;</th><th scope=col>&lt;dbl&gt;</th></tr>\n",
       "</thead>\n",
       "<tbody>\n",
       "\t<tr><td>Georgia   </td><td>NA</td></tr>\n",
       "\t<tr><td>Armenia   </td><td>74</td></tr>\n",
       "\t<tr><td>Azerbaijan</td><td>53</td></tr>\n",
       "\t<tr><td>Albania   </td><td>NA</td></tr>\n",
       "\t<tr><td>Belarus   </td><td>22</td></tr>\n",
       "\t<tr><td>Colombia  </td><td> 9</td></tr>\n",
       "</tbody>\n",
       "</table>\n"
      ],
      "text/latex": [
       "A data.frame: 6 × 2\n",
       "\\begin{tabular}{r|ll}\n",
       " country & AQI\\\\\n",
       " <chr> & <dbl>\\\\\n",
       "\\hline\n",
       "\t Georgia    & NA\\\\\n",
       "\t Armenia    & 74\\\\\n",
       "\t Azerbaijan & 53\\\\\n",
       "\t Albania    & NA\\\\\n",
       "\t Belarus    & 22\\\\\n",
       "\t Colombia   &  9\\\\\n",
       "\\end{tabular}\n"
      ],
      "text/markdown": [
       "\n",
       "A data.frame: 6 × 2\n",
       "\n",
       "| country &lt;chr&gt; | AQI &lt;dbl&gt; |\n",
       "|---|---|\n",
       "| Georgia    | NA |\n",
       "| Armenia    | 74 |\n",
       "| Azerbaijan | 53 |\n",
       "| Albania    | NA |\n",
       "| Belarus    | 22 |\n",
       "| Colombia   |  9 |\n",
       "\n"
      ],
      "text/plain": [
       "  country    AQI\n",
       "1 Georgia    NA \n",
       "2 Armenia    74 \n",
       "3 Azerbaijan 53 \n",
       "4 Albania    NA \n",
       "5 Belarus    22 \n",
       "6 Colombia    9 "
      ]
     },
     "metadata": {},
     "output_type": "display_data"
    }
   ],
   "source": [
    "AQI_both_df <- \n",
    "    AQI_df %>% \n",
    "    left_join(AQI_df_v2) %>% \n",
    "    mutate(AQI = ifelse(is.na(AQI) | AQI == '-', AQI2, AQI),\n",
    "           AQI = as.numeric(AQI),\n",
    "           AQI = case_when(is.na(AQI) & capital == 'Yerevan' ~ 74,\n",
    "                         is.na(AQI) & capital == 'Chisinau' ~ 26,\n",
    "                         is.na(AQI) & capital == 'Podgorica' ~ 97,\n",
    "                         TRUE ~ AQI))  %>% \n",
    "    select(-AQI2) %>% \n",
    "    select(country, AQI)\n",
    "\n",
    "head(AQI_both_df)"
   ]
  },
  {
   "cell_type": "markdown",
   "metadata": {},
   "source": [
    "# Climate (weather-atlas.com)"
   ]
  },
  {
   "cell_type": "code",
   "execution_count": 14,
   "metadata": {},
   "outputs": [],
   "source": [
    "# temperature\n",
    "\n",
    "# getAtlas <- function(country, city) {\n",
    "    \n",
    "#     paste0('https://www.weather-atlas.com/en/', country, '/', city, '-climate')\n",
    "# }\n",
    "\n",
    "## CHECK if all cities are there\n",
    "\n",
    "# for (i in 1:nrow(countries_df)) {\n",
    "    \n",
    "#     atlasUrl <- \n",
    "#         getAtlas(str_replace_all(countries_df$country[i], ' ', '-'), str_replace_all(countries_df$capital[i], ' ', '-')) %>% \n",
    "#         curl(., handle = curl::new_handle('useragent' = sample(user_agents, 1))) %>% \n",
    "#         html\n",
    "\n",
    "#     atlasName <- \n",
    "#         atlasUrl %>% \n",
    "#         html_nodes('[itemprop = addressLocality]') %>% \n",
    "#         html_text\n",
    "\n",
    "#     if (countries_df$capital[i] == atlasName) {\n",
    "\n",
    "#         print('OK')\n",
    "        \n",
    "#     } else {\n",
    "\n",
    "#         print('Not Found')\n",
    "#         print(countries_df$capital[i])\n",
    "#     }\n",
    "        \n",
    "# }\n",
    "\n",
    "## NAMES ARE OK"
   ]
  },
  {
   "cell_type": "code",
   "execution_count": 15,
   "metadata": {},
   "outputs": [
    {
     "data": {
      "text/html": [
       "<ol class=list-inline>\n",
       "\t<li>'Daylight hours / Sunshine hours'</li>\n",
       "\t<li>'Humidity (%)'</li>\n",
       "\t<li>'Rainfall (mm)'</li>\n",
       "\t<li>'Rainfall days'</li>\n",
       "\t<li>'Sea temperature (°C)'</li>\n",
       "\t<li>'Snowfall days'</li>\n",
       "\t<li>'Temperature (°C)'</li>\n",
       "\t<li>'UV index'</li>\n",
       "</ol>\n"
      ],
      "text/latex": [
       "\\begin{enumerate*}\n",
       "\\item 'Daylight hours / Sunshine hours'\n",
       "\\item 'Humidity (\\%)'\n",
       "\\item 'Rainfall (mm)'\n",
       "\\item 'Rainfall days'\n",
       "\\item 'Sea temperature (°C)'\n",
       "\\item 'Snowfall days'\n",
       "\\item 'Temperature (°C)'\n",
       "\\item 'UV index'\n",
       "\\end{enumerate*}\n"
      ],
      "text/markdown": [
       "1. 'Daylight hours / Sunshine hours'\n",
       "2. 'Humidity (%)'\n",
       "3. 'Rainfall (mm)'\n",
       "4. 'Rainfall days'\n",
       "5. 'Sea temperature (°C)'\n",
       "6. 'Snowfall days'\n",
       "7. 'Temperature (°C)'\n",
       "8. 'UV index'\n",
       "\n",
       "\n"
      ],
      "text/plain": [
       "[1] \"Daylight hours / Sunshine hours\" \"Humidity (%)\"                   \n",
       "[3] \"Rainfall (mm)\"                   \"Rainfall days\"                  \n",
       "[5] \"Sea temperature (°C)\"            \"Snowfall days\"                  \n",
       "[7] \"Temperature (°C)\"                \"UV index\"                       "
      ]
     },
     "metadata": {},
     "output_type": "display_data"
    }
   ],
   "source": [
    "# temperature\n",
    "\n",
    "getAtlas <- function(country, city) {\n",
    "    \n",
    "    paste0('https://www.weather-atlas.com/en/', country, '/', city, '-climate')\n",
    "}\n",
    "\n",
    "climate_df <- read.csv(text = 'month, metric, value, capital', stringsAsFactors = F)\n",
    "\n",
    "\n",
    "for (i in 1:nrow(countries_df)) {\n",
    "    \n",
    "    country <- str_replace_all(countries_df$country[i], ' ', '-')\n",
    "    capital <- str_replace_all(countries_df$capital[i], ' ', '-') \n",
    "    \n",
    "    #print(c(country, capital))\n",
    "    \n",
    "    plotScript <- \n",
    "        getAtlas(country, capital) %>% \n",
    "        curl(., handle = curl::new_handle('useragent' = sample(user_agents, 1))) %>% \n",
    "        html %>% \n",
    "        html_nodes('script') %>% \n",
    "        html_text\n",
    "\n",
    "    plotTitles <- \n",
    "        plotScript %>% \n",
    "        str_extract('(?<=title:)(.*)(?=\\\\,)') %>% \n",
    "        str_remove_all(\"\\\\'|\\\\(\\\\[\") %>% \n",
    "        .[!is.na(.)]\n",
    "\n",
    "    plotData <- \n",
    "        plotScript %>% \n",
    "        str_extract('(?<=data.addRows)(.*)(?=\\\\]\\\\)\\\\;)') %>% \n",
    "        str_remove_all(\"\\\\'|\\\\(\\\\[\") %>% \n",
    "        .[!is.na(.)]\n",
    "    \n",
    "    for (j in 1:length(plotTitles)) {\n",
    "    \n",
    "        climate_df <- \n",
    "            plotData[j] %>% \n",
    "            strsplit(split='],', fixed=TRUE) %>% \n",
    "            unlist %>% \n",
    "            str_remove_all('\\\\[') %>% \n",
    "            data.frame(x = ., stringsAsFactors = F)  %>% \n",
    "            tidyr::separate(x, c('month', plotTitles[j]), sep = ',', remove = T) %>% \n",
    "            mutate_at(vars(contains(plotTitles[j])), ~as.numeric(.)) %>% \n",
    "            tidyr::gather(metric, value, -month) %>% \n",
    "            mutate(capital = countries_df$capital[i]) %>% \n",
    "            rbind(., climate_df)\n",
    "    }\n",
    "    \n",
    "}\n",
    "\n",
    "climate_df %>% pull(metric) %>% unique %>% sort"
   ]
  },
  {
   "cell_type": "code",
   "execution_count": 16,
   "metadata": {},
   "outputs": [
    {
     "data": {
      "text/html": [
       "<table>\n",
       "<caption>A data.frame: 6 × 4</caption>\n",
       "<thead>\n",
       "\t<tr><th scope=col>month</th><th scope=col>metric</th><th scope=col>value</th><th scope=col>capital</th></tr>\n",
       "\t<tr><th scope=col>&lt;chr&gt;</th><th scope=col>&lt;chr&gt;</th><th scope=col>&lt;dbl&gt;</th><th scope=col>&lt;chr&gt;</th></tr>\n",
       "</thead>\n",
       "<tbody>\n",
       "\t<tr><td>Jan</td><td>UV index</td><td>1</td><td>Almaty</td></tr>\n",
       "\t<tr><td>Feb</td><td>UV index</td><td>2</td><td>Almaty</td></tr>\n",
       "\t<tr><td>Mar</td><td>UV index</td><td>4</td><td>Almaty</td></tr>\n",
       "\t<tr><td>Apr</td><td>UV index</td><td>6</td><td>Almaty</td></tr>\n",
       "\t<tr><td>May</td><td>UV index</td><td>8</td><td>Almaty</td></tr>\n",
       "\t<tr><td>Jun</td><td>UV index</td><td>9</td><td>Almaty</td></tr>\n",
       "</tbody>\n",
       "</table>\n"
      ],
      "text/latex": [
       "A data.frame: 6 × 4\n",
       "\\begin{tabular}{r|llll}\n",
       " month & metric & value & capital\\\\\n",
       " <chr> & <chr> & <dbl> & <chr>\\\\\n",
       "\\hline\n",
       "\t Jan & UV index & 1 & Almaty\\\\\n",
       "\t Feb & UV index & 2 & Almaty\\\\\n",
       "\t Mar & UV index & 4 & Almaty\\\\\n",
       "\t Apr & UV index & 6 & Almaty\\\\\n",
       "\t May & UV index & 8 & Almaty\\\\\n",
       "\t Jun & UV index & 9 & Almaty\\\\\n",
       "\\end{tabular}\n"
      ],
      "text/markdown": [
       "\n",
       "A data.frame: 6 × 4\n",
       "\n",
       "| month &lt;chr&gt; | metric &lt;chr&gt; | value &lt;dbl&gt; | capital &lt;chr&gt; |\n",
       "|---|---|---|---|\n",
       "| Jan | UV index | 1 | Almaty |\n",
       "| Feb | UV index | 2 | Almaty |\n",
       "| Mar | UV index | 4 | Almaty |\n",
       "| Apr | UV index | 6 | Almaty |\n",
       "| May | UV index | 8 | Almaty |\n",
       "| Jun | UV index | 9 | Almaty |\n",
       "\n"
      ],
      "text/plain": [
       "  month metric   value capital\n",
       "1 Jan   UV index 1     Almaty \n",
       "2 Feb   UV index 2     Almaty \n",
       "3 Mar   UV index 4     Almaty \n",
       "4 Apr   UV index 6     Almaty \n",
       "5 May   UV index 8     Almaty \n",
       "6 Jun   UV index 9     Almaty "
      ]
     },
     "metadata": {},
     "output_type": "display_data"
    }
   ],
   "source": [
    "climate_df %>% head"
   ]
  },
  {
   "cell_type": "code",
   "execution_count": 17,
   "metadata": {},
   "outputs": [],
   "source": [
    "climate_summary <- \n",
    "    climate_df %>% \n",
    "    group_by(capital, metric) %>% \n",
    "    summarise(value = round(mean(value), 2)) %>% \n",
    "    ungroup %>% \n",
    "    tidyr::spread(metric, value)"
   ]
  },
  {
   "cell_type": "markdown",
   "metadata": {},
   "source": [
    "# Safety\n",
    "## Global Peace Index 2019"
   ]
  },
  {
   "cell_type": "code",
   "execution_count": 18,
   "metadata": {},
   "outputs": [
    {
     "name": "stderr",
     "output_type": "stream",
     "text": [
      "Joining, by = \"country\"\n"
     ]
    },
    {
     "data": {
      "text/html": [
       "<table>\n",
       "<caption>A data.frame: 3 × 6</caption>\n",
       "<thead>\n",
       "\t<tr><th scope=col>country</th><th scope=col>duration</th><th scope=col>capital</th><th scope=col>country_html</th><th scope=col>capital_html</th><th scope=col>peaceIndex</th></tr>\n",
       "\t<tr><th scope=col>&lt;chr&gt;</th><th scope=col>&lt;dbl&gt;</th><th scope=col>&lt;chr&gt;</th><th scope=col>&lt;chr&gt;</th><th scope=col>&lt;chr&gt;</th><th scope=col>&lt;dbl&gt;</th></tr>\n",
       "</thead>\n",
       "<tbody>\n",
       "\t<tr><td>Kyrgyzstan</td><td>90</td><td>Bishkek   </td><td>Kyrgyzstan </td><td>Bishkek    </td><td>NA</td></tr>\n",
       "\t<tr><td>Barbados  </td><td>28</td><td>Bridgetown</td><td>Barbados   </td><td>Bridgetown </td><td>NA</td></tr>\n",
       "\t<tr><td>Hong Kong </td><td>14</td><td>Hong Kong </td><td>Hong%20Kong</td><td>Hong%20Kong</td><td>NA</td></tr>\n",
       "</tbody>\n",
       "</table>\n"
      ],
      "text/latex": [
       "A data.frame: 3 × 6\n",
       "\\begin{tabular}{r|llllll}\n",
       " country & duration & capital & country\\_html & capital\\_html & peaceIndex\\\\\n",
       " <chr> & <dbl> & <chr> & <chr> & <chr> & <dbl>\\\\\n",
       "\\hline\n",
       "\t Kyrgyzstan & 90 & Bishkek    & Kyrgyzstan  & Bishkek     & NA\\\\\n",
       "\t Barbados   & 28 & Bridgetown & Barbados    & Bridgetown  & NA\\\\\n",
       "\t Hong Kong  & 14 & Hong Kong  & Hong\\%20Kong & Hong\\%20Kong & NA\\\\\n",
       "\\end{tabular}\n"
      ],
      "text/markdown": [
       "\n",
       "A data.frame: 3 × 6\n",
       "\n",
       "| country &lt;chr&gt; | duration &lt;dbl&gt; | capital &lt;chr&gt; | country_html &lt;chr&gt; | capital_html &lt;chr&gt; | peaceIndex &lt;dbl&gt; |\n",
       "|---|---|---|---|---|---|\n",
       "| Kyrgyzstan | 90 | Bishkek    | Kyrgyzstan  | Bishkek     | NA |\n",
       "| Barbados   | 28 | Bridgetown | Barbados    | Bridgetown  | NA |\n",
       "| Hong Kong  | 14 | Hong Kong  | Hong%20Kong | Hong%20Kong | NA |\n",
       "\n"
      ],
      "text/plain": [
       "  country    duration capital    country_html capital_html peaceIndex\n",
       "1 Kyrgyzstan 90       Bishkek    Kyrgyzstan   Bishkek      NA        \n",
       "2 Barbados   28       Bridgetown Barbados     Bridgetown   NA        \n",
       "3 Hong Kong  14       Hong Kong  Hong%20Kong  Hong%20Kong  NA        "
      ]
     },
     "metadata": {},
     "output_type": "display_data"
    }
   ],
   "source": [
    "# safety\n",
    "\n",
    "safety <- 'http://worldpopulationreview.com/countries/safest-countries-in-the-world/'\n",
    "\n",
    "safety_df <- \n",
    "    html(safety) %>% \n",
    "    html_nodes('table') %>% \n",
    "    html_table(header = T) %>% \n",
    "    as.data.frame %>% \n",
    "    select_all(tolower) %>% \n",
    "    select(country, peaceIndex = `peace.index`)\n",
    "\n",
    "countries_df %>% \n",
    "    left_join(safety_df) %>% \n",
    "    filter(is.na(peaceIndex))"
   ]
  },
  {
   "cell_type": "markdown",
   "metadata": {},
   "source": [
    "# Cigarettes consumption"
   ]
  },
  {
   "cell_type": "code",
   "execution_count": 19,
   "metadata": {},
   "outputs": [
    {
     "name": "stderr",
     "output_type": "stream",
     "text": [
      "Joining, by = \"country\"\n"
     ]
    },
    {
     "data": {
      "text/html": [
       "<table>\n",
       "<caption>A data.frame: 1 × 6</caption>\n",
       "<thead>\n",
       "\t<tr><th scope=col>country</th><th scope=col>duration</th><th scope=col>capital</th><th scope=col>country_html</th><th scope=col>capital_html</th><th scope=col>cigConsumption</th></tr>\n",
       "\t<tr><th scope=col>&lt;chr&gt;</th><th scope=col>&lt;dbl&gt;</th><th scope=col>&lt;chr&gt;</th><th scope=col>&lt;chr&gt;</th><th scope=col>&lt;chr&gt;</th><th scope=col>&lt;dbl&gt;</th></tr>\n",
       "</thead>\n",
       "<tbody>\n",
       "\t<tr><td>Hong Kong</td><td>14</td><td>Hong Kong</td><td>Hong%20Kong</td><td>Hong%20Kong</td><td>NA</td></tr>\n",
       "</tbody>\n",
       "</table>\n"
      ],
      "text/latex": [
       "A data.frame: 1 × 6\n",
       "\\begin{tabular}{r|llllll}\n",
       " country & duration & capital & country\\_html & capital\\_html & cigConsumption\\\\\n",
       " <chr> & <dbl> & <chr> & <chr> & <chr> & <dbl>\\\\\n",
       "\\hline\n",
       "\t Hong Kong & 14 & Hong Kong & Hong\\%20Kong & Hong\\%20Kong & NA\\\\\n",
       "\\end{tabular}\n"
      ],
      "text/markdown": [
       "\n",
       "A data.frame: 1 × 6\n",
       "\n",
       "| country &lt;chr&gt; | duration &lt;dbl&gt; | capital &lt;chr&gt; | country_html &lt;chr&gt; | capital_html &lt;chr&gt; | cigConsumption &lt;dbl&gt; |\n",
       "|---|---|---|---|---|---|\n",
       "| Hong Kong | 14 | Hong Kong | Hong%20Kong | Hong%20Kong | NA |\n",
       "\n"
      ],
      "text/plain": [
       "  country   duration capital   country_html capital_html cigConsumption\n",
       "1 Hong Kong 14       Hong Kong Hong%20Kong  Hong%20Kong  NA            "
      ]
     },
     "metadata": {},
     "output_type": "display_data"
    }
   ],
   "source": [
    "# сижки\n",
    "cigarettes <- 'https://en.wikipedia.org/wiki/List_of_countries_by_cigarette_consumption_per_capita'\n",
    "\n",
    "cigarettes_df <- \n",
    "    html(cigarettes) %>% \n",
    "    html_nodes('.wikitable') %>% \n",
    "    html_table(fill = T, header = T) %>% \n",
    "    as.data.frame() %>% \n",
    "    select_all(tolower) %>% \n",
    "    select(country, cigConsumption = `var.3`) %>% \n",
    "    mutate(country = recode(country, 'UAE' = 'United Arab Emirates'))\n",
    "\n",
    "countries_df %>% \n",
    "left_join(cigarettes_df) %>% \n",
    "filter(is.na(cigConsumption))"
   ]
  },
  {
   "cell_type": "markdown",
   "metadata": {},
   "source": [
    "# Pollution Index from Numbeo"
   ]
  },
  {
   "cell_type": "code",
   "execution_count": 20,
   "metadata": {},
   "outputs": [
    {
     "name": "stderr",
     "output_type": "stream",
     "text": [
      "Joining, by = \"country\"\n"
     ]
    },
    {
     "data": {
      "text/html": [
       "<table>\n",
       "<caption>A data.frame: 5 × 6</caption>\n",
       "<thead>\n",
       "\t<tr><th scope=col>country</th><th scope=col>duration</th><th scope=col>capital</th><th scope=col>country_html</th><th scope=col>capital_html</th><th scope=col>Pollution.Index</th></tr>\n",
       "\t<tr><th scope=col>&lt;chr&gt;</th><th scope=col>&lt;dbl&gt;</th><th scope=col>&lt;chr&gt;</th><th scope=col>&lt;chr&gt;</th><th scope=col>&lt;chr&gt;</th><th scope=col>&lt;dbl&gt;</th></tr>\n",
       "</thead>\n",
       "<tbody>\n",
       "\t<tr><td>Kyrgyzstan</td><td>90</td><td>Bishkek   </td><td>Kyrgyzstan</td><td>Bishkek   </td><td>NA</td></tr>\n",
       "\t<tr><td>Moldova   </td><td>90</td><td>Chisinau  </td><td>Moldova   </td><td>Chisinau  </td><td>NA</td></tr>\n",
       "\t<tr><td>Tajikistan</td><td>30</td><td>Dushanbe  </td><td>Tajikistan</td><td>Dushanbe  </td><td>NA</td></tr>\n",
       "\t<tr><td>Uzbekistan</td><td>30</td><td>Tashkent  </td><td>Uzbekistan</td><td>Tashkent  </td><td>NA</td></tr>\n",
       "\t<tr><td>Barbados  </td><td>28</td><td>Bridgetown</td><td>Barbados  </td><td>Bridgetown</td><td>NA</td></tr>\n",
       "</tbody>\n",
       "</table>\n"
      ],
      "text/latex": [
       "A data.frame: 5 × 6\n",
       "\\begin{tabular}{r|llllll}\n",
       " country & duration & capital & country\\_html & capital\\_html & Pollution.Index\\\\\n",
       " <chr> & <dbl> & <chr> & <chr> & <chr> & <dbl>\\\\\n",
       "\\hline\n",
       "\t Kyrgyzstan & 90 & Bishkek    & Kyrgyzstan & Bishkek    & NA\\\\\n",
       "\t Moldova    & 90 & Chisinau   & Moldova    & Chisinau   & NA\\\\\n",
       "\t Tajikistan & 30 & Dushanbe   & Tajikistan & Dushanbe   & NA\\\\\n",
       "\t Uzbekistan & 30 & Tashkent   & Uzbekistan & Tashkent   & NA\\\\\n",
       "\t Barbados   & 28 & Bridgetown & Barbados   & Bridgetown & NA\\\\\n",
       "\\end{tabular}\n"
      ],
      "text/markdown": [
       "\n",
       "A data.frame: 5 × 6\n",
       "\n",
       "| country &lt;chr&gt; | duration &lt;dbl&gt; | capital &lt;chr&gt; | country_html &lt;chr&gt; | capital_html &lt;chr&gt; | Pollution.Index &lt;dbl&gt; |\n",
       "|---|---|---|---|---|---|\n",
       "| Kyrgyzstan | 90 | Bishkek    | Kyrgyzstan | Bishkek    | NA |\n",
       "| Moldova    | 90 | Chisinau   | Moldova    | Chisinau   | NA |\n",
       "| Tajikistan | 30 | Dushanbe   | Tajikistan | Dushanbe   | NA |\n",
       "| Uzbekistan | 30 | Tashkent   | Uzbekistan | Tashkent   | NA |\n",
       "| Barbados   | 28 | Bridgetown | Barbados   | Bridgetown | NA |\n",
       "\n"
      ],
      "text/plain": [
       "  country    duration capital    country_html capital_html Pollution.Index\n",
       "1 Kyrgyzstan 90       Bishkek    Kyrgyzstan   Bishkek      NA             \n",
       "2 Moldova    90       Chisinau   Moldova      Chisinau     NA             \n",
       "3 Tajikistan 30       Dushanbe   Tajikistan   Dushanbe     NA             \n",
       "4 Uzbekistan 30       Tashkent   Uzbekistan   Tashkent     NA             \n",
       "5 Barbados   28       Bridgetown Barbados     Bridgetown   NA             "
      ]
     },
     "metadata": {},
     "output_type": "display_data"
    }
   ],
   "source": [
    "pollution_index <- 'https://www.numbeo.com/pollution/rankings_by_country.jsp?title=2019-mid'\n",
    "\n",
    "pollution <- pollution_index %>% \n",
    "    curl(., handle = curl::new_handle('useragent' = sample(user_agents, 1))) %>% \n",
    "    html %>% \n",
    "    html_nodes('#t2') %>% \n",
    "    html_table(fill = T, header = T) %>% \n",
    "    as.data.frame %>% \n",
    "    select(country = Country, Pollution.Index)\n",
    "\n",
    "countries_df %>% \n",
    "left_join(pollution) %>% \n",
    "filter(is.na(Pollution.Index))"
   ]
  },
  {
   "cell_type": "markdown",
   "metadata": {},
   "source": [
    "# Freedom on the Net"
   ]
  },
  {
   "cell_type": "code",
   "execution_count": 21,
   "metadata": {},
   "outputs": [
    {
     "name": "stderr",
     "output_type": "stream",
     "text": [
      "Joining, by = \"country\"\n"
     ]
    },
    {
     "data": {
      "text/html": [
       "<table>\n",
       "<caption>A data.frame: 9 × 6</caption>\n",
       "<thead>\n",
       "\t<tr><th scope=col>country</th><th scope=col>duration</th><th scope=col>capital</th><th scope=col>country_html</th><th scope=col>capital_html</th><th scope=col>freedom</th></tr>\n",
       "\t<tr><th scope=col>&lt;chr&gt;</th><th scope=col>&lt;dbl&gt;</th><th scope=col>&lt;chr&gt;</th><th scope=col>&lt;chr&gt;</th><th scope=col>&lt;chr&gt;</th><th scope=col>&lt;dbl&gt;</th></tr>\n",
       "</thead>\n",
       "<tbody>\n",
       "\t<tr><td>Albania   </td><td>90</td><td>Tirana     </td><td>Albania     </td><td>Tirana     </td><td>NA</td></tr>\n",
       "\t<tr><td>Costa Rica</td><td>90</td><td>San Jose   </td><td>Costa%20Rica</td><td>San%20Jose </td><td>NA</td></tr>\n",
       "\t<tr><td>Moldova   </td><td>90</td><td>Chisinau   </td><td>Moldova     </td><td>Chisinau   </td><td>NA</td></tr>\n",
       "\t<tr><td>Mongolia  </td><td>90</td><td>Ulaanbaatar</td><td>Mongolia    </td><td>Ulaanbaatar</td><td>NA</td></tr>\n",
       "\t<tr><td>Serbia    </td><td>30</td><td>Belgrade   </td><td>Serbia      </td><td>Belgrade   </td><td>NA</td></tr>\n",
       "\t<tr><td>Tajikistan</td><td>30</td><td>Dushanbe   </td><td>Tajikistan  </td><td>Dushanbe   </td><td>NA</td></tr>\n",
       "\t<tr><td>Montenegro</td><td>30</td><td>Podgorica  </td><td>Montenegro  </td><td>Podgorica  </td><td>NA</td></tr>\n",
       "\t<tr><td>Barbados  </td><td>28</td><td>Bridgetown </td><td>Barbados    </td><td>Bridgetown </td><td>NA</td></tr>\n",
       "\t<tr><td>Hong Kong </td><td>14</td><td>Hong Kong  </td><td>Hong%20Kong </td><td>Hong%20Kong</td><td>NA</td></tr>\n",
       "</tbody>\n",
       "</table>\n"
      ],
      "text/latex": [
       "A data.frame: 9 × 6\n",
       "\\begin{tabular}{r|llllll}\n",
       " country & duration & capital & country\\_html & capital\\_html & freedom\\\\\n",
       " <chr> & <dbl> & <chr> & <chr> & <chr> & <dbl>\\\\\n",
       "\\hline\n",
       "\t Albania    & 90 & Tirana      & Albania      & Tirana      & NA\\\\\n",
       "\t Costa Rica & 90 & San Jose    & Costa\\%20Rica & San\\%20Jose  & NA\\\\\n",
       "\t Moldova    & 90 & Chisinau    & Moldova      & Chisinau    & NA\\\\\n",
       "\t Mongolia   & 90 & Ulaanbaatar & Mongolia     & Ulaanbaatar & NA\\\\\n",
       "\t Serbia     & 30 & Belgrade    & Serbia       & Belgrade    & NA\\\\\n",
       "\t Tajikistan & 30 & Dushanbe    & Tajikistan   & Dushanbe    & NA\\\\\n",
       "\t Montenegro & 30 & Podgorica   & Montenegro   & Podgorica   & NA\\\\\n",
       "\t Barbados   & 28 & Bridgetown  & Barbados     & Bridgetown  & NA\\\\\n",
       "\t Hong Kong  & 14 & Hong Kong   & Hong\\%20Kong  & Hong\\%20Kong & NA\\\\\n",
       "\\end{tabular}\n"
      ],
      "text/markdown": [
       "\n",
       "A data.frame: 9 × 6\n",
       "\n",
       "| country &lt;chr&gt; | duration &lt;dbl&gt; | capital &lt;chr&gt; | country_html &lt;chr&gt; | capital_html &lt;chr&gt; | freedom &lt;dbl&gt; |\n",
       "|---|---|---|---|---|---|\n",
       "| Albania    | 90 | Tirana      | Albania      | Tirana      | NA |\n",
       "| Costa Rica | 90 | San Jose    | Costa%20Rica | San%20Jose  | NA |\n",
       "| Moldova    | 90 | Chisinau    | Moldova      | Chisinau    | NA |\n",
       "| Mongolia   | 90 | Ulaanbaatar | Mongolia     | Ulaanbaatar | NA |\n",
       "| Serbia     | 30 | Belgrade    | Serbia       | Belgrade    | NA |\n",
       "| Tajikistan | 30 | Dushanbe    | Tajikistan   | Dushanbe    | NA |\n",
       "| Montenegro | 30 | Podgorica   | Montenegro   | Podgorica   | NA |\n",
       "| Barbados   | 28 | Bridgetown  | Barbados     | Bridgetown  | NA |\n",
       "| Hong Kong  | 14 | Hong Kong   | Hong%20Kong  | Hong%20Kong | NA |\n",
       "\n"
      ],
      "text/plain": [
       "  country    duration capital     country_html capital_html freedom\n",
       "1 Albania    90       Tirana      Albania      Tirana       NA     \n",
       "2 Costa Rica 90       San Jose    Costa%20Rica San%20Jose   NA     \n",
       "3 Moldova    90       Chisinau    Moldova      Chisinau     NA     \n",
       "4 Mongolia   90       Ulaanbaatar Mongolia     Ulaanbaatar  NA     \n",
       "5 Serbia     30       Belgrade    Serbia       Belgrade     NA     \n",
       "6 Tajikistan 30       Dushanbe    Tajikistan   Dushanbe     NA     \n",
       "7 Montenegro 30       Podgorica   Montenegro   Podgorica    NA     \n",
       "8 Barbados   28       Bridgetown  Barbados     Bridgetown   NA     \n",
       "9 Hong Kong  14       Hong Kong   Hong%20Kong  Hong%20Kong  NA     "
      ]
     },
     "metadata": {},
     "output_type": "display_data"
    }
   ],
   "source": [
    "library(openxlsx)\n",
    "\n",
    "freedom <- read.xlsx('FOTN2019_data.xlsx', sheet = 1, startRow = 2) %>% select(country = Country, freedom = Total)\n",
    "\n",
    "countries_df %>% \n",
    "left_join(freedom) %>% \n",
    "filter(is.na(freedom))"
   ]
  },
  {
   "cell_type": "markdown",
   "metadata": {},
   "source": [
    "# All in One"
   ]
  },
  {
   "cell_type": "code",
   "execution_count": 22,
   "metadata": {},
   "outputs": [
    {
     "name": "stderr",
     "output_type": "stream",
     "text": [
      "Joining, by = c(\"country\", \"duration\", \"capital\", \"country_html\", \"capital_html\")\n",
      "Joining, by = c(\"country\", \"duration\", \"capital\", \"country_html\", \"capital_html\")\n",
      "Joining, by = \"capital\"\n",
      "Joining, by = \"country\"\n",
      "Joining, by = \"capital\"\n",
      "Joining, by = \"country\"\n",
      "Joining, by = \"country\"\n",
      "Joining, by = \"country\"\n",
      "Joining, by = \"country\"\n"
     ]
    }
   ],
   "source": [
    "# all in one\n",
    "\n",
    "all_in_one <- \n",
    "    countries_df %>% \n",
    "    left_join(prices_df) %>% \n",
    "    left_join(speed_df) %>% \n",
    "    left_join(tz_df) %>% \n",
    "    left_join(AQI_both_df) %>% \n",
    "    left_join(climate_summary) %>% \n",
    "    left_join(safety_df) %>% \n",
    "    left_join(cigarettes_df) %>% \n",
    "    left_join(pollution) %>% \n",
    "    left_join(freedom) %>% \n",
    "    select(-contains('html')) %>% \n",
    "    select(country, capital, everything()) %>% \n",
    "    distinct(country, .keep_all = T)\n",
    "\n",
    "write.csv(all_in_one, 'all_data.csv', sep = ',', row.names = F)"
   ]
  },
  {
   "cell_type": "code",
   "execution_count": 23,
   "metadata": {},
   "outputs": [
    {
     "data": {
      "text/html": [
       "<table>\n",
       "<caption>A data.frame: 6 × 22</caption>\n",
       "<thead>\n",
       "\t<tr><th scope=col>country</th><th scope=col>capital</th><th scope=col>duration</th><th scope=col>prices</th><th scope=col>prices_difference</th><th scope=col>mobileSpeed</th><th scope=col>fixedSpeed</th><th scope=col>almaty_difference</th><th scope=col>kiyv_difference</th><th scope=col>AQI</th><th scope=col>...</th><th scope=col>Rainfall (mm)</th><th scope=col>Rainfall days</th><th scope=col>Sea temperature (°C)</th><th scope=col>Snowfall days</th><th scope=col>Temperature (°C)</th><th scope=col>UV index</th><th scope=col>peaceIndex</th><th scope=col>cigConsumption</th><th scope=col>Pollution.Index</th><th scope=col>freedom</th></tr>\n",
       "\t<tr><th scope=col>&lt;chr&gt;</th><th scope=col>&lt;chr&gt;</th><th scope=col>&lt;dbl&gt;</th><th scope=col>&lt;dbl&gt;</th><th scope=col>&lt;dbl&gt;</th><th scope=col>&lt;dbl&gt;</th><th scope=col>&lt;dbl&gt;</th><th scope=col>&lt;dbl&gt;</th><th scope=col>&lt;dbl&gt;</th><th scope=col>&lt;dbl&gt;</th><th scope=col>...</th><th scope=col>&lt;dbl&gt;</th><th scope=col>&lt;dbl&gt;</th><th scope=col>&lt;dbl&gt;</th><th scope=col>&lt;dbl&gt;</th><th scope=col>&lt;dbl&gt;</th><th scope=col>&lt;dbl&gt;</th><th scope=col>&lt;dbl&gt;</th><th scope=col>&lt;dbl&gt;</th><th scope=col>&lt;dbl&gt;</th><th scope=col>&lt;dbl&gt;</th></tr>\n",
       "</thead>\n",
       "<tbody>\n",
       "\t<tr><td>Georgia   </td><td>Tbilisi</td><td>365</td><td>235296</td><td>-0.058816</td><td>27.14</td><td>24.87</td><td> -2</td><td> 2</td><td>NA</td><td>...</td><td> 43.08</td><td> 5.91</td><td>   NA</td><td>  NA</td><td>18.52</td><td> 5.33</td><td>2.122</td><td>1917.7</td><td>71.55</td><td>75</td></tr>\n",
       "\t<tr><td>Armenia   </td><td>Yerevan</td><td>180</td><td>271971</td><td> 0.087884</td><td>31.01</td><td>25.61</td><td> -2</td><td> 2</td><td>74</td><td>...</td><td> 24.67</td><td> 6.50</td><td>   NA</td><td>1.86</td><td>18.88</td><td> 6.17</td><td>2.294</td><td>1985.7</td><td>60.94</td><td>76</td></tr>\n",
       "\t<tr><td>Azerbaijan</td><td>Baku   </td><td> 90</td><td>253643</td><td> 0.014572</td><td>31.84</td><td>18.54</td><td> -2</td><td> 2</td><td>53</td><td>...</td><td> 17.50</td><td> 4.08</td><td>15.92</td><td>0.83</td><td>18.10</td><td> 5.50</td><td>2.425</td><td>1525.6</td><td>79.36</td><td>39</td></tr>\n",
       "\t<tr><td>Albania   </td><td>Tirana </td><td> 90</td><td>301698</td><td> 0.206792</td><td>49.21</td><td>30.83</td><td> -5</td><td>-1</td><td>NA</td><td>...</td><td>105.42</td><td>10.67</td><td>   NA</td><td>  NA</td><td>20.93</td><td> 5.08</td><td>1.821</td><td>2491.6</td><td>75.75</td><td>NA</td></tr>\n",
       "\t<tr><td>Belarus   </td><td>Minsk  </td><td> 90</td><td>297496</td><td> 0.189984</td><td>12.59</td><td>50.14</td><td> -3</td><td> 1</td><td>22</td><td>...</td><td> 57.50</td><td>15.00</td><td>   NA</td><td>8.53</td><td>10.64</td><td> 2.92</td><td>2.115</td><td>2911.3</td><td>43.75</td><td>35</td></tr>\n",
       "\t<tr><td>Colombia  </td><td>Bogota </td><td> 90</td><td>265948</td><td> 0.063792</td><td>18.12</td><td>23.88</td><td>-11</td><td>-7</td><td> 9</td><td>...</td><td> 84.42</td><td>15.17</td><td>   NA</td><td>  NA</td><td>19.48</td><td>12.00</td><td>2.661</td><td> 351.4</td><td>62.57</td><td>67</td></tr>\n",
       "</tbody>\n",
       "</table>\n"
      ],
      "text/latex": [
       "A data.frame: 6 × 22\n",
       "\\begin{tabular}{r|llllllllllllllllllllll}\n",
       " country & capital & duration & prices & prices\\_difference & mobileSpeed & fixedSpeed & almaty\\_difference & kiyv\\_difference & AQI & Daylight hours / Sunshine hours & Humidity (\\%) & Rainfall (mm) & Rainfall days & Sea temperature (°C) & Snowfall days & Temperature (°C) & UV index & peaceIndex & cigConsumption & Pollution.Index & freedom\\\\\n",
       " <chr> & <chr> & <dbl> & <dbl> & <dbl> & <dbl> & <dbl> & <dbl> & <dbl> & <dbl> & <dbl> & <dbl> & <dbl> & <dbl> & <dbl> & <dbl> & <dbl> & <dbl> & <dbl> & <dbl> & <dbl> & <dbl>\\\\\n",
       "\\hline\n",
       "\t Georgia    & Tbilisi & 365 & 235296 & -0.058816 & 27.14 & 24.87 &  -2 &  2 & NA & 12.25 &    NA &  43.08 &  5.91 &    NA &   NA & 18.52 &  5.33 & 2.122 & 1917.7 & 71.55 & 75\\\\\n",
       "\t Armenia    & Yerevan & 180 & 271971 &  0.087884 & 31.01 & 25.61 &  -2 &  2 & 74 & 12.17 & 62.17 &  24.67 &  6.50 &    NA & 1.86 & 18.88 &  6.17 & 2.294 & 1985.7 & 60.94 & 76\\\\\n",
       "\t Azerbaijan & Baku    &  90 & 253643 &  0.014572 & 31.84 & 18.54 &  -2 &  2 & 53 & 12.17 &    NA &  17.50 &  4.08 & 15.92 & 0.83 & 18.10 &  5.50 & 2.425 & 1525.6 & 79.36 & 39\\\\\n",
       "\t Albania    & Tirana  &  90 & 301698 &  0.206792 & 49.21 & 30.83 &  -5 & -1 & NA & 12.25 & 70.58 & 105.42 & 10.67 &    NA &   NA & 20.93 &  5.08 & 1.821 & 2491.6 & 75.75 & NA\\\\\n",
       "\t Belarus    & Minsk   &  90 & 297496 &  0.189984 & 12.59 & 50.14 &  -3 &  1 & 22 & 12.42 & 77.42 &  57.50 & 15.00 &    NA & 8.53 & 10.64 &  2.92 & 2.115 & 2911.3 & 43.75 & 35\\\\\n",
       "\t Colombia   & Bogota  &  90 & 265948 &  0.063792 & 18.12 & 23.88 & -11 & -7 &  9 & 12.00 & 75.58 &  84.42 & 15.17 &    NA &   NA & 19.48 & 12.00 & 2.661 &  351.4 & 62.57 & 67\\\\\n",
       "\\end{tabular}\n"
      ],
      "text/markdown": [
       "\n",
       "A data.frame: 6 × 22\n",
       "\n",
       "| country &lt;chr&gt; | capital &lt;chr&gt; | duration &lt;dbl&gt; | prices &lt;dbl&gt; | prices_difference &lt;dbl&gt; | mobileSpeed &lt;dbl&gt; | fixedSpeed &lt;dbl&gt; | almaty_difference &lt;dbl&gt; | kiyv_difference &lt;dbl&gt; | AQI &lt;dbl&gt; | ... ... | Rainfall (mm) &lt;dbl&gt; | Rainfall days &lt;dbl&gt; | Sea temperature (°C) &lt;dbl&gt; | Snowfall days &lt;dbl&gt; | Temperature (°C) &lt;dbl&gt; | UV index &lt;dbl&gt; | peaceIndex &lt;dbl&gt; | cigConsumption &lt;dbl&gt; | Pollution.Index &lt;dbl&gt; | freedom &lt;dbl&gt; |\n",
       "|---|---|---|---|---|---|---|---|---|---|---|---|---|---|---|---|---|---|---|---|---|\n",
       "| Georgia    | Tbilisi | 365 | 235296 | -0.058816 | 27.14 | 24.87 |  -2 |  2 | NA | ... |  43.08 |  5.91 |    NA |   NA | 18.52 |  5.33 | 2.122 | 1917.7 | 71.55 | 75 |\n",
       "| Armenia    | Yerevan | 180 | 271971 |  0.087884 | 31.01 | 25.61 |  -2 |  2 | 74 | ... |  24.67 |  6.50 |    NA | 1.86 | 18.88 |  6.17 | 2.294 | 1985.7 | 60.94 | 76 |\n",
       "| Azerbaijan | Baku    |  90 | 253643 |  0.014572 | 31.84 | 18.54 |  -2 |  2 | 53 | ... |  17.50 |  4.08 | 15.92 | 0.83 | 18.10 |  5.50 | 2.425 | 1525.6 | 79.36 | 39 |\n",
       "| Albania    | Tirana  |  90 | 301698 |  0.206792 | 49.21 | 30.83 |  -5 | -1 | NA | ... | 105.42 | 10.67 |    NA |   NA | 20.93 |  5.08 | 1.821 | 2491.6 | 75.75 | NA |\n",
       "| Belarus    | Minsk   |  90 | 297496 |  0.189984 | 12.59 | 50.14 |  -3 |  1 | 22 | ... |  57.50 | 15.00 |    NA | 8.53 | 10.64 |  2.92 | 2.115 | 2911.3 | 43.75 | 35 |\n",
       "| Colombia   | Bogota  |  90 | 265948 |  0.063792 | 18.12 | 23.88 | -11 | -7 |  9 | ... |  84.42 | 15.17 |    NA |   NA | 19.48 | 12.00 | 2.661 |  351.4 | 62.57 | 67 |\n",
       "\n"
      ],
      "text/plain": [
       "  country    capital duration prices prices_difference mobileSpeed fixedSpeed\n",
       "1 Georgia    Tbilisi 365      235296 -0.058816         27.14       24.87     \n",
       "2 Armenia    Yerevan 180      271971  0.087884         31.01       25.61     \n",
       "3 Azerbaijan Baku     90      253643  0.014572         31.84       18.54     \n",
       "4 Albania    Tirana   90      301698  0.206792         49.21       30.83     \n",
       "5 Belarus    Minsk    90      297496  0.189984         12.59       50.14     \n",
       "6 Colombia   Bogota   90      265948  0.063792         18.12       23.88     \n",
       "  almaty_difference kiyv_difference AQI ... Rainfall (mm) Rainfall days\n",
       "1  -2                2              NA  ...  43.08         5.91        \n",
       "2  -2                2              74  ...  24.67         6.50        \n",
       "3  -2                2              53  ...  17.50         4.08        \n",
       "4  -5               -1              NA  ... 105.42        10.67        \n",
       "5  -3                1              22  ...  57.50        15.00        \n",
       "6 -11               -7               9  ...  84.42        15.17        \n",
       "  Sea temperature (°C) Snowfall days Temperature (°C) UV index peaceIndex\n",
       "1    NA                  NA          18.52             5.33    2.122     \n",
       "2    NA                1.86          18.88             6.17    2.294     \n",
       "3 15.92                0.83          18.10             5.50    2.425     \n",
       "4    NA                  NA          20.93             5.08    1.821     \n",
       "5    NA                8.53          10.64             2.92    2.115     \n",
       "6    NA                  NA          19.48            12.00    2.661     \n",
       "  cigConsumption Pollution.Index freedom\n",
       "1 1917.7         71.55           75     \n",
       "2 1985.7         60.94           76     \n",
       "3 1525.6         79.36           39     \n",
       "4 2491.6         75.75           NA     \n",
       "5 2911.3         43.75           35     \n",
       "6  351.4         62.57           67     "
      ]
     },
     "metadata": {},
     "output_type": "display_data"
    }
   ],
   "source": [
    "getTop <- function(colName, asc = TRUE, n = 5) {\n",
    "    \n",
    "    if (asc) {\n",
    "        \n",
    "        all_in_one %>% \n",
    "        arrange(!!sym(colName)) %>% \n",
    "        head(n)\n",
    "        \n",
    "    } else {\n",
    "        \n",
    "        all_in_one %>% \n",
    "        arrange(desc(!!sym(colName))) %>% \n",
    "        head(n)\n",
    "        \n",
    "    }   \n",
    "    \n",
    "}\n",
    "\n",
    "all_in_one %>% head"
   ]
  },
  {
   "cell_type": "code",
   "execution_count": 24,
   "metadata": {},
   "outputs": [
    {
     "data": {
      "text/html": [
       "<table>\n",
       "<caption>A data.frame: 5 × 22</caption>\n",
       "<thead>\n",
       "\t<tr><th scope=col>country</th><th scope=col>capital</th><th scope=col>duration</th><th scope=col>prices</th><th scope=col>prices_difference</th><th scope=col>mobileSpeed</th><th scope=col>fixedSpeed</th><th scope=col>almaty_difference</th><th scope=col>kiyv_difference</th><th scope=col>AQI</th><th scope=col>...</th><th scope=col>Rainfall (mm)</th><th scope=col>Rainfall days</th><th scope=col>Sea temperature (°C)</th><th scope=col>Snowfall days</th><th scope=col>Temperature (°C)</th><th scope=col>UV index</th><th scope=col>peaceIndex</th><th scope=col>cigConsumption</th><th scope=col>Pollution.Index</th><th scope=col>freedom</th></tr>\n",
       "\t<tr><th scope=col>&lt;chr&gt;</th><th scope=col>&lt;chr&gt;</th><th scope=col>&lt;dbl&gt;</th><th scope=col>&lt;dbl&gt;</th><th scope=col>&lt;dbl&gt;</th><th scope=col>&lt;dbl&gt;</th><th scope=col>&lt;dbl&gt;</th><th scope=col>&lt;dbl&gt;</th><th scope=col>&lt;dbl&gt;</th><th scope=col>&lt;dbl&gt;</th><th scope=col>...</th><th scope=col>&lt;dbl&gt;</th><th scope=col>&lt;dbl&gt;</th><th scope=col>&lt;dbl&gt;</th><th scope=col>&lt;dbl&gt;</th><th scope=col>&lt;dbl&gt;</th><th scope=col>&lt;dbl&gt;</th><th scope=col>&lt;dbl&gt;</th><th scope=col>&lt;dbl&gt;</th><th scope=col>&lt;dbl&gt;</th><th scope=col>&lt;dbl&gt;</th></tr>\n",
       "</thead>\n",
       "<tbody>\n",
       "\t<tr><td>Georgia   </td><td>Tbilisi</td><td>365</td><td>235296</td><td>-0.058816</td><td>27.14</td><td>24.87</td><td>-2</td><td> 2</td><td> NA</td><td>...</td><td> 43.08</td><td> 5.91</td><td>   NA</td><td>  NA</td><td>18.52</td><td>5.33</td><td>2.122</td><td>1917.7</td><td>71.55</td><td>75</td></tr>\n",
       "\t<tr><td>Kazakhstan</td><td>Almaty </td><td>365</td><td>250000</td><td> 0.000000</td><td>19.03</td><td>38.09</td><td> 0</td><td> 4</td><td>108</td><td>...</td><td> 57.00</td><td>10.17</td><td>   NA</td><td>4.45</td><td>15.77</td><td>5.08</td><td>1.932</td><td>1800.9</td><td>75.42</td><td>32</td></tr>\n",
       "\t<tr><td>Armenia   </td><td>Yerevan</td><td>180</td><td>271971</td><td> 0.087884</td><td>31.01</td><td>25.61</td><td>-2</td><td> 2</td><td> 74</td><td>...</td><td> 24.67</td><td> 6.50</td><td>   NA</td><td>1.86</td><td>18.88</td><td>6.17</td><td>2.294</td><td>1985.7</td><td>60.94</td><td>76</td></tr>\n",
       "\t<tr><td>Azerbaijan</td><td>Baku   </td><td> 90</td><td>253643</td><td> 0.014572</td><td>31.84</td><td>18.54</td><td>-2</td><td> 2</td><td> 53</td><td>...</td><td> 17.50</td><td> 4.08</td><td>15.92</td><td>0.83</td><td>18.10</td><td>5.50</td><td>2.425</td><td>1525.6</td><td>79.36</td><td>39</td></tr>\n",
       "\t<tr><td>Albania   </td><td>Tirana </td><td> 90</td><td>301698</td><td> 0.206792</td><td>49.21</td><td>30.83</td><td>-5</td><td>-1</td><td> NA</td><td>...</td><td>105.42</td><td>10.67</td><td>   NA</td><td>  NA</td><td>20.93</td><td>5.08</td><td>1.821</td><td>2491.6</td><td>75.75</td><td>NA</td></tr>\n",
       "</tbody>\n",
       "</table>\n"
      ],
      "text/latex": [
       "A data.frame: 5 × 22\n",
       "\\begin{tabular}{r|llllllllllllllllllllll}\n",
       " country & capital & duration & prices & prices\\_difference & mobileSpeed & fixedSpeed & almaty\\_difference & kiyv\\_difference & AQI & Daylight hours / Sunshine hours & Humidity (\\%) & Rainfall (mm) & Rainfall days & Sea temperature (°C) & Snowfall days & Temperature (°C) & UV index & peaceIndex & cigConsumption & Pollution.Index & freedom\\\\\n",
       " <chr> & <chr> & <dbl> & <dbl> & <dbl> & <dbl> & <dbl> & <dbl> & <dbl> & <dbl> & <dbl> & <dbl> & <dbl> & <dbl> & <dbl> & <dbl> & <dbl> & <dbl> & <dbl> & <dbl> & <dbl> & <dbl>\\\\\n",
       "\\hline\n",
       "\t Georgia    & Tbilisi & 365 & 235296 & -0.058816 & 27.14 & 24.87 & -2 &  2 &  NA & 12.25 &    NA &  43.08 &  5.91 &    NA &   NA & 18.52 & 5.33 & 2.122 & 1917.7 & 71.55 & 75\\\\\n",
       "\t Kazakhstan & Almaty  & 365 & 250000 &  0.000000 & 19.03 & 38.09 &  0 &  4 & 108 & 12.17 & 62.17 &  57.00 & 10.17 &    NA & 4.45 & 15.77 & 5.08 & 1.932 & 1800.9 & 75.42 & 32\\\\\n",
       "\t Armenia    & Yerevan & 180 & 271971 &  0.087884 & 31.01 & 25.61 & -2 &  2 &  74 & 12.17 & 62.17 &  24.67 &  6.50 &    NA & 1.86 & 18.88 & 6.17 & 2.294 & 1985.7 & 60.94 & 76\\\\\n",
       "\t Azerbaijan & Baku    &  90 & 253643 &  0.014572 & 31.84 & 18.54 & -2 &  2 &  53 & 12.17 &    NA &  17.50 &  4.08 & 15.92 & 0.83 & 18.10 & 5.50 & 2.425 & 1525.6 & 79.36 & 39\\\\\n",
       "\t Albania    & Tirana  &  90 & 301698 &  0.206792 & 49.21 & 30.83 & -5 & -1 &  NA & 12.25 & 70.58 & 105.42 & 10.67 &    NA &   NA & 20.93 & 5.08 & 1.821 & 2491.6 & 75.75 & NA\\\\\n",
       "\\end{tabular}\n"
      ],
      "text/markdown": [
       "\n",
       "A data.frame: 5 × 22\n",
       "\n",
       "| country &lt;chr&gt; | capital &lt;chr&gt; | duration &lt;dbl&gt; | prices &lt;dbl&gt; | prices_difference &lt;dbl&gt; | mobileSpeed &lt;dbl&gt; | fixedSpeed &lt;dbl&gt; | almaty_difference &lt;dbl&gt; | kiyv_difference &lt;dbl&gt; | AQI &lt;dbl&gt; | ... ... | Rainfall (mm) &lt;dbl&gt; | Rainfall days &lt;dbl&gt; | Sea temperature (°C) &lt;dbl&gt; | Snowfall days &lt;dbl&gt; | Temperature (°C) &lt;dbl&gt; | UV index &lt;dbl&gt; | peaceIndex &lt;dbl&gt; | cigConsumption &lt;dbl&gt; | Pollution.Index &lt;dbl&gt; | freedom &lt;dbl&gt; |\n",
       "|---|---|---|---|---|---|---|---|---|---|---|---|---|---|---|---|---|---|---|---|---|\n",
       "| Georgia    | Tbilisi | 365 | 235296 | -0.058816 | 27.14 | 24.87 | -2 |  2 |  NA | ... |  43.08 |  5.91 |    NA |   NA | 18.52 | 5.33 | 2.122 | 1917.7 | 71.55 | 75 |\n",
       "| Kazakhstan | Almaty  | 365 | 250000 |  0.000000 | 19.03 | 38.09 |  0 |  4 | 108 | ... |  57.00 | 10.17 |    NA | 4.45 | 15.77 | 5.08 | 1.932 | 1800.9 | 75.42 | 32 |\n",
       "| Armenia    | Yerevan | 180 | 271971 |  0.087884 | 31.01 | 25.61 | -2 |  2 |  74 | ... |  24.67 |  6.50 |    NA | 1.86 | 18.88 | 6.17 | 2.294 | 1985.7 | 60.94 | 76 |\n",
       "| Azerbaijan | Baku    |  90 | 253643 |  0.014572 | 31.84 | 18.54 | -2 |  2 |  53 | ... |  17.50 |  4.08 | 15.92 | 0.83 | 18.10 | 5.50 | 2.425 | 1525.6 | 79.36 | 39 |\n",
       "| Albania    | Tirana  |  90 | 301698 |  0.206792 | 49.21 | 30.83 | -5 | -1 |  NA | ... | 105.42 | 10.67 |    NA |   NA | 20.93 | 5.08 | 1.821 | 2491.6 | 75.75 | NA |\n",
       "\n"
      ],
      "text/plain": [
       "  country    capital duration prices prices_difference mobileSpeed fixedSpeed\n",
       "1 Georgia    Tbilisi 365      235296 -0.058816         27.14       24.87     \n",
       "2 Kazakhstan Almaty  365      250000  0.000000         19.03       38.09     \n",
       "3 Armenia    Yerevan 180      271971  0.087884         31.01       25.61     \n",
       "4 Azerbaijan Baku     90      253643  0.014572         31.84       18.54     \n",
       "5 Albania    Tirana   90      301698  0.206792         49.21       30.83     \n",
       "  almaty_difference kiyv_difference AQI ... Rainfall (mm) Rainfall days\n",
       "1 -2                 2               NA ...  43.08         5.91        \n",
       "2  0                 4              108 ...  57.00        10.17        \n",
       "3 -2                 2               74 ...  24.67         6.50        \n",
       "4 -2                 2               53 ...  17.50         4.08        \n",
       "5 -5                -1               NA ... 105.42        10.67        \n",
       "  Sea temperature (°C) Snowfall days Temperature (°C) UV index peaceIndex\n",
       "1    NA                  NA          18.52            5.33     2.122     \n",
       "2    NA                4.45          15.77            5.08     1.932     \n",
       "3    NA                1.86          18.88            6.17     2.294     \n",
       "4 15.92                0.83          18.10            5.50     2.425     \n",
       "5    NA                  NA          20.93            5.08     1.821     \n",
       "  cigConsumption Pollution.Index freedom\n",
       "1 1917.7         71.55           75     \n",
       "2 1800.9         75.42           32     \n",
       "3 1985.7         60.94           76     \n",
       "4 1525.6         79.36           39     \n",
       "5 2491.6         75.75           NA     "
      ]
     },
     "metadata": {},
     "output_type": "display_data"
    }
   ],
   "source": [
    "getTop('duration', F)"
   ]
  },
  {
   "cell_type": "code",
   "execution_count": 25,
   "metadata": {},
   "outputs": [
    {
     "name": "stderr",
     "output_type": "stream",
     "text": [
      "Joining, by = \"capital\"\n"
     ]
    }
   ],
   "source": [
    "write.table(all_in_one, 'all_data.txt', sep = '\\t', row.names = F)\n",
    "write.table(inner_join(climate_df, select(countries_df, country, capital)), 'climate.txt', sep = '\\t', row.names = F)"
   ]
  }
 ],
 "metadata": {
  "kernelspec": {
   "display_name": "R",
   "language": "R",
   "name": "ir"
  },
  "language_info": {
   "codemirror_mode": "r",
   "file_extension": ".r",
   "mimetype": "text/x-r-source",
   "name": "R",
   "pygments_lexer": "r",
   "version": "3.6.2"
  }
 },
 "nbformat": 4,
 "nbformat_minor": 2
}
